{
 "cells": [
  {
   "cell_type": "markdown",
   "metadata": {},
   "source": [
    "# Generic examples"
   ]
  },
  {
   "cell_type": "markdown",
   "metadata": {},
   "source": [
    "## Plot examples"
   ]
  },
  {
   "cell_type": "code",
   "execution_count": 1,
   "metadata": {},
   "outputs": [
    {
     "data": {
      "text/plain": [
       "<Figure size 640x480 with 1 Axes>"
      ]
     },
     "metadata": {},
     "output_type": "display_data"
    },
    {
     "data": {
      "text/plain": [
       "<Figure size 600x300 with 2 Axes>"
      ]
     },
     "metadata": {},
     "output_type": "display_data"
    },
    {
     "data": {
      "text/plain": [
       "<Figure size 600x300 with 2 Axes>"
      ]
     },
     "metadata": {},
     "output_type": "display_data"
    },
    {
     "data": {
      "text/plain": [
       "<Figure size 600x300 with 2 Axes>"
      ]
     },
     "metadata": {},
     "output_type": "display_data"
    }
   ],
   "source": [
    "import numpy as np\n",
    "import pandas as pd\n",
    "\n",
    "from utils import plot, plot_multiple, load_json, ThreadPool\n",
    "\n",
    "datas = {\n",
    "    'm1' : np.linspace(0, 1, 10),\n",
    "    'm2' : np.linspace(1, 0.5, 10)\n",
    "}\n",
    "random_datas = {\n",
    "    'dist_1' : np.random.normal(size = 10000),\n",
    "    'dist_2' : np.random.uniform(size = 10000)\n",
    "}\n",
    "\n",
    "dataframe = pd.DataFrame([\n",
    "    {'a' : 5, 'b' : 3, 'c' : 1},\n",
    "    {'a' : 4, 'b' : 3, 'c' : 1},\n",
    "    {'a' : 6, 'b' : 5, 'c' : 2},\n",
    "    {'a' : 6, 'b' : 4, 'c' : 2},\n",
    "    {'a' : 3, 'b' : 2, 'c' : 2},\n",
    "])\n",
    "\n",
    "plot(datas, title = 'Example of plot')\n",
    "plot_multiple(** datas, title = 'Example of subplot', xlabel = 'x', ylabel = 'y', ylim = (0,1),\n",
    "              use_subplots = True, horizontal = True,\n",
    "              filename = 'example_data/plots/plot_simple_example.png')\n",
    "plot_multiple(** random_datas, title = 'Example of histogram', use_subplots = True, \n",
    "              xlabel = 'x', ylabel = 'frequency', plot_type = 'hist', horizontal = True,\n",
    "              filename = 'example_data/plots/plot_hist_example.png', show = True)\n",
    "plot_multiple(dataframe, by = 'c', title = 'Example of dataframe plot',\n",
    "              use_subplots = True, horizontal = True, show = True,\n",
    "              filename = 'example_data/plots/plot_dataframe_example.png')\n",
    "plot_multiple(dataframe, corr = 'c', title = 'Example of dataframe correlation plot',\n",
    "              use_subplots = True, horizontal = True, show = True,\n",
    "              filename = 'example_data/plots/plot_dataframe_corr_example.png')"
   ]
  },
  {
   "cell_type": "markdown",
   "metadata": {},
   "source": [
    "## Embeddings examples\n",
    "\n",
    "Note : the provided embeddings are samples from the VoxForge dataset embedded by my AudioSiamese model : `audio_siamese_256_mel_lstm` (will be released later)"
   ]
  },
  {
   "cell_type": "code",
   "execution_count": 6,
   "metadata": {},
   "outputs": [
    {
     "name": "stdout",
     "output_type": "stream",
     "text": [
      "Original embeddings :\n",
      "                                              filename                                          embedding  \\\n",
      "0    VoxForge/fr/samuelbuffet-20090703-udq/wav/fr-s...  [-0.00011343794, -0.00012576704, 0.0004697689,...   \n",
      "1    VoxForge/fr/samuelbuffet-20090703-udq/wav/fr-s...  [-0.00029487943, -0.00019367959, 0.0008462651,...   \n",
      "2    VoxForge/fr/samuelbuffet-20090703-udq/wav/fr-s...  [-0.00012839596, -1.3334279e-05, 0.001058621, ...   \n",
      "3    VoxForge/fr/samuelbuffet-20090703-udq/wav/fr-s...  [-0.00031986443, -0.00041395996, 0.000898958, ...   \n",
      "4    VoxForge/fr/samuelbuffet-20090703-udq/wav/fr-s...  [-0.00027184433, -0.00063498016, 0.00038204438...   \n",
      "5    VoxForge/fr/samuelbuffet-20090703-udq/wav/fr-s...  [-0.00024186505, -5.275228e-05, 0.0021878968, ...   \n",
      "6    VoxForge/fr/samuelbuffet-20090703-udq/wav/fr-s...  [-0.00032492177, -4.1103354e-05, 0.0027732619,...   \n",
      "7    VoxForge/fr/samuelbuffet-20090703-udq/wav/fr-s...  [-0.00040969707, -0.0003298011, 0.0009261206, ...   \n",
      "8    VoxForge/fr/samuelbuffet-20090703-udq/wav/fr-s...  [-4.6887828e-05, 1.3875459e-05, 0.0017002668, ...   \n",
      "9    VoxForge/fr/samuelbuffet-20090703-udq/wav/fr-s...  [-0.000284694, -3.9821116e-05, 0.0029239652, -...   \n",
      "10   VoxForge/fr/samuel-buffet-20080904-2/flac/fr-0...  [-1.9712677e-05, -0.0011558438, 0.00027617687,...   \n",
      "11   VoxForge/fr/samuel-buffet-20080904-2/flac/fr-1...  [-0.00028004378, -0.000118561424, 0.0004763243...   \n",
      "..                                                 ...                                                ...   \n",
      "588  VoxForge/fr/Thierryb-20161221-onw/wav/fr-sb-27...  [-3.2902786e-05, -0.00013014625, -0.0006640237...   \n",
      "589  VoxForge/fr/Thierryb-20161221-onw/wav/fr-sb-26...  [-2.1736516e-05, -0.00017649514, -0.0003009723...   \n",
      "590  VoxForge/fr/anonymous-20140418-dlc/wav/fr-sb-8...  [-0.0003611078, -1.1632008e-05, 0.0019939744, ...   \n",
      "591  VoxForge/fr/anonymous-20140418-dlc/wav/fr-sb-8...  [-0.0006093683, -0.0008569908, 0.0015662746, -...   \n",
      "592  VoxForge/fr/anonymous-20140418-dlc/wav/fr-sb-8...  [-0.00015106458, -0.00010500193, 0.0006741405,...   \n",
      "593  VoxForge/fr/anonymous-20140418-dlc/wav/fr-sb-8...  [-7.850866e-05, 6.791394e-05, 0.0008594613, -0...   \n",
      "594  VoxForge/fr/anonymous-20140418-dlc/wav/fr-sb-8...  [-0.00015192654, 0.00013509346, 0.001325559, -...   \n",
      "595  VoxForge/fr/anonymous-20140418-dlc/wav/fr-sb-8...  [-0.00026001988, -0.00031830306, 0.0022616049,...   \n",
      "596  VoxForge/fr/anonymous-20140418-dlc/wav/fr-sb-8...  [-0.00016911788, 2.0112968e-05, 0.0007426249, ...   \n",
      "597  VoxForge/fr/anonymous-20140418-dlc/wav/fr-sb-8...  [-8.6849075e-05, -5.5408276e-05, 0.00026615278...   \n",
      "598  VoxForge/fr/anonymous-20140418-dlc/wav/fr-sb-8...  [-0.00057893735, -9.871774e-05, 0.0015048828, ...   \n",
      "599  VoxForge/fr/anonymous-20140418-dlc/wav/fr-sb-8...  [-4.5055192e-05, -1.0794475e-05, 0.003928781, ...   \n",
      "\n",
      "                            id                                  speaker_embedding  \n",
      "0    samuelbuffet-20090703-udq  [-0.00011343794, -0.00012576704, 0.0004697689,...  \n",
      "1    samuelbuffet-20090703-udq  [-0.00011343794, -0.00012576704, 0.0004697689,...  \n",
      "2    samuelbuffet-20090703-udq  [-0.00011343794, -0.00012576704, 0.0004697689,...  \n",
      "3    samuelbuffet-20090703-udq  [-0.00011343794, -0.00012576704, 0.0004697689,...  \n",
      "4    samuelbuffet-20090703-udq  [-0.00011343794, -0.00012576704, 0.0004697689,...  \n",
      "5    samuelbuffet-20090703-udq  [-0.00011343794, -0.00012576704, 0.0004697689,...  \n",
      "6    samuelbuffet-20090703-udq  [-0.00011343794, -0.00012576704, 0.0004697689,...  \n",
      "7    samuelbuffet-20090703-udq  [-0.00011343794, -0.00012576704, 0.0004697689,...  \n",
      "8    samuelbuffet-20090703-udq  [-0.00011343794, -0.00012576704, 0.0004697689,...  \n",
      "9    samuelbuffet-20090703-udq  [-0.00011343794, -0.00012576704, 0.0004697689,...  \n",
      "10    samuel-buffet-20080904-2  [-1.9712677e-05, -0.0011558438, 0.00027617687,...  \n",
      "11    samuel-buffet-20080904-2  [-1.9712677e-05, -0.0011558438, 0.00027617687,...  \n",
      "..                         ...                                                ...  \n",
      "588      Thierryb-20161221-onw  [-4.1931966e-05, 0.0002013205, -0.000867216, -...  \n",
      "589      Thierryb-20161221-onw  [-4.1931966e-05, 0.0002013205, -0.000867216, -...  \n",
      "590     anonymous-20140418-dlc  [-0.0003611078, -1.1632008e-05, 0.0019939744, ...  \n",
      "591     anonymous-20140418-dlc  [-0.0003611078, -1.1632008e-05, 0.0019939744, ...  \n",
      "592     anonymous-20140418-dlc  [-0.0003611078, -1.1632008e-05, 0.0019939744, ...  \n",
      "593     anonymous-20140418-dlc  [-0.0003611078, -1.1632008e-05, 0.0019939744, ...  \n",
      "594     anonymous-20140418-dlc  [-0.0003611078, -1.1632008e-05, 0.0019939744, ...  \n",
      "595     anonymous-20140418-dlc  [-0.0003611078, -1.1632008e-05, 0.0019939744, ...  \n",
      "596     anonymous-20140418-dlc  [-0.0003611078, -1.1632008e-05, 0.0019939744, ...  \n",
      "597     anonymous-20140418-dlc  [-0.0003611078, -1.1632008e-05, 0.0019939744, ...  \n",
      "598     anonymous-20140418-dlc  [-0.0003611078, -1.1632008e-05, 0.0019939744, ...  \n",
      "599     anonymous-20140418-dlc  [-0.0003611078, -1.1632008e-05, 0.0019939744, ...  \n",
      "\n",
      "[600 rows x 4 columns]\n",
      "Count for each id\n",
      "    count                            id\n",
      "0      10          Anthony-20160924-wtx\n",
      "1      10       DeltaBravo-20140613-vup\n",
      "2      10          Fao10rk-20140205-prc\n",
      "3      10          Fao10rk-20140210-gbd\n",
      "4      10          Fao10rk-20160111-axj\n",
      "5      10          Fao10rk-20160122-rtb\n",
      "6      10           Grumpf-20150228-gri\n",
      "7      10          Jeanbon-20131030-ork\n",
      "8      20  LEBOURGPhilippe-20091230-bhq\n",
      "9      20           Lorand-20140815-kjn\n",
      "10     10           Lorand-20160618-cii\n",
      "11     10          Mariane-20090907-ydu\n",
      "..    ...                           ...\n",
      "31     10       joBesancon-20140216-qqi\n",
      "32     10         jpquanti-20151217-uex\n",
      "33     20           karibu-20140816-cvx\n",
      "34     10       nerkdesign-20150421-yro\n",
      "35     10        philippea-20131122-ogz\n",
      "36     40      samuel-buffet-20080904-2\n",
      "37     50      samuel-buffet-20080904-4\n",
      "38     50        samuel-buffet-20080905\n",
      "39     10     samuelbuffet-20090629-qfz\n",
      "40     10     samuelbuffet-20090703-udq\n",
      "41     10           sissou-20150530-qwo\n",
      "42     10      yeouepinard-20091120-adk\n",
      "\n",
      "[43 rows x 2 columns]\n",
      "Samples to plot :\n",
      "                                              filename                                          embedding  \\\n",
      "243  VoxForge/fr/anonymous-20140706-vvp/wav/fr-sb-5...  [-0.00032438812, 0.00013647435, 0.0011077409, ...   \n",
      "249  VoxForge/fr/anonymous-20140706-vvp/wav/fr-sb-5...  [-0.0004917364, 0.00021158769, 0.0016110857, -...   \n",
      "247  VoxForge/fr/anonymous-20140706-vvp/wav/fr-sb-5...  [-0.000101420934, 8.093953e-05, 0.00089388527,...   \n",
      "246  VoxForge/fr/anonymous-20140706-vvp/wav/fr-sb-5...  [-0.0003057094, 0.00014768855, 0.00086028, -0....   \n",
      "241  VoxForge/fr/anonymous-20140706-vvp/wav/fr-sb-5...  [-0.0003876063, 3.3410877e-05, 0.00049775257, ...   \n",
      "248  VoxForge/fr/anonymous-20140706-vvp/wav/fr-sb-5...  [-8.09857e-05, 5.9975682e-05, 0.0003526126, -0...   \n",
      "242  VoxForge/fr/anonymous-20140706-vvp/wav/fr-sb-5...  [-0.00029854834, -0.000118752956, 0.0002233489...   \n",
      "245  VoxForge/fr/anonymous-20140706-vvp/wav/fr-sb-5...  [-0.00011625063, 0.00015309124, 0.0035489758, ...   \n",
      "244  VoxForge/fr/anonymous-20140706-vvp/wav/fr-sb-5...  [-0.0022262142, -7.9126075e-05, 0.0015563573, ...   \n",
      "240  VoxForge/fr/anonymous-20140706-vvp/wav/fr-sb-5...  [-0.00023260017, 0.00069688575, 0.00039004325,...   \n",
      "577  VoxForge/fr/anonymous-20090804-dxj/wav/fr-sb-6...  [-9.442577e-05, -0.0036832397, 6.293068e-05, -...   \n",
      "571  VoxForge/fr/anonymous-20090804-dxj/wav/fr-sb-6...  [-0.00016704701, 0.00020114741, 0.0010779843, ...   \n",
      "..                                                 ...                                                ...   \n",
      "408   VoxForge/fr/sissou-20150530-qwo/wav/fr-sb-11.wav  [-0.00020970232, -0.00012452409, 0.0005461628,...   \n",
      "409    VoxForge/fr/sissou-20150530-qwo/wav/fr-sb-5.wav  [-0.00011165158, 4.6111905e-05, 0.0024185479, ...   \n",
      "69   VoxForge/fr/karibu-20140816-cvx/wav/fr-sb-204.wav  [-9.596555e-05, 3.473754e-05, 0.002138951, -0....   \n",
      "55   VoxForge/fr/karibu-20140816-cvx/wav/fr-sb-204.wav  [-9.596555e-05, 3.473754e-05, 0.002138951, -0....   \n",
      "57   VoxForge/fr/karibu-20140816-cvx/wav/fr-sb-209.wav  [-6.006972e-05, -0.00010505038, 0.0015708435, ...   \n",
      "60   VoxForge/fr/karibu-20140816-cvx/wav/fr-sb-205.wav  [-4.6847177e-05, -4.705205e-06, 0.0038473255, ...   \n",
      "56   VoxForge/fr/karibu-20140816-cvx/wav/fr-sb-206.wav  [-4.468633e-05, -2.4085828e-06, 0.0027502438, ...   \n",
      "64   VoxForge/fr/karibu-20140816-cvx/wav/fr-sb-207.wav  [-9.860805e-05, -6.7098977e-06, 0.004683156, -...   \n",
      "67   VoxForge/fr/karibu-20140816-cvx/wav/fr-sb-202.wav  [-2.8776203e-05, 0.00016604208, 0.0008472983, ...   \n",
      "53   VoxForge/fr/karibu-20140816-cvx/wav/fr-sb-205.wav  [-4.6847177e-05, -4.705205e-06, 0.0038473255, ...   \n",
      "63   VoxForge/fr/karibu-20140816-cvx/wav/fr-sb-210.wav  [-5.054207e-05, -1.994563e-05, 0.0033178583, -...   \n",
      "50   VoxForge/fr/karibu-20140816-cvx/wav/fr-sb-208.wav  [-4.593001e-05, -1.1322936e-05, 0.0021930581, ...   \n",
      "\n",
      "                         id                                  speaker_embedding  \n",
      "243  anonymous-20140706-vvp  [-0.00023260017, 0.00069688575, 0.00039004325,...  \n",
      "249  anonymous-20140706-vvp  [-0.00023260017, 0.00069688575, 0.00039004325,...  \n",
      "247  anonymous-20140706-vvp  [-0.00023260017, 0.00069688575, 0.00039004325,...  \n",
      "246  anonymous-20140706-vvp  [-0.00023260017, 0.00069688575, 0.00039004325,...  \n",
      "241  anonymous-20140706-vvp  [-0.00023260017, 0.00069688575, 0.00039004325,...  \n",
      "248  anonymous-20140706-vvp  [-0.00023260017, 0.00069688575, 0.00039004325,...  \n",
      "242  anonymous-20140706-vvp  [-0.00023260017, 0.00069688575, 0.00039004325,...  \n",
      "245  anonymous-20140706-vvp  [-0.00023260017, 0.00069688575, 0.00039004325,...  \n",
      "244  anonymous-20140706-vvp  [-0.00023260017, 0.00069688575, 0.00039004325,...  \n",
      "240  anonymous-20140706-vvp  [-0.00023260017, 0.00069688575, 0.00039004325,...  \n",
      "577  anonymous-20090804-dxj  [-0.0001706351, 0.0023119256, 0.00016165874, -...  \n",
      "571  anonymous-20090804-dxj  [-0.0001706351, 0.0023119256, 0.00016165874, -...  \n",
      "..                      ...                                                ...  \n",
      "408     sissou-20150530-qwo  [-5.0568426e-05, 2.561521e-05, 0.0041838516, -...  \n",
      "409     sissou-20150530-qwo  [-5.0568426e-05, 2.561521e-05, 0.0041838516, -...  \n",
      "69      karibu-20140816-cvx  [-4.593001e-05, -1.1322936e-05, 0.0021930581, ...  \n",
      "55      karibu-20140816-cvx  [-4.593001e-05, -1.1322936e-05, 0.0021930581, ...  \n",
      "57      karibu-20140816-cvx  [-4.593001e-05, -1.1322936e-05, 0.0021930581, ...  \n",
      "60      karibu-20140816-cvx  [-4.593001e-05, -1.1322936e-05, 0.0021930581, ...  \n",
      "56      karibu-20140816-cvx  [-4.593001e-05, -1.1322936e-05, 0.0021930581, ...  \n",
      "64      karibu-20140816-cvx  [-4.593001e-05, -1.1322936e-05, 0.0021930581, ...  \n",
      "67      karibu-20140816-cvx  [-4.593001e-05, -1.1322936e-05, 0.0021930581, ...  \n",
      "53      karibu-20140816-cvx  [-4.593001e-05, -1.1322936e-05, 0.0021930581, ...  \n",
      "63      karibu-20140816-cvx  [-4.593001e-05, -1.1322936e-05, 0.0021930581, ...  \n",
      "50      karibu-20140816-cvx  [-4.593001e-05, -1.1322936e-05, 0.0021930581, ...  \n",
      "\n",
      "[100 rows x 4 columns]\n"
     ]
    },
    {
     "data": {
      "image/png": "[encoded data removed]",
      "text/plain": [
       "<Figure size 455.368x455.368 with 1 Axes>"
      ]
     },
     "metadata": {
      "needs_background": "dark"
     },
     "output_type": "display_data"
    }
   ],
   "source": [
    "from utils import plot_embedding, set_display_options\n",
    "from utils.embeddings import load_embedding\n",
    "from utils.pandas_utils import sample_df, aggregate_df\n",
    "\n",
    "set_display_options(rows = 25, width = 125)\n",
    "\n",
    "directory = 'example_data'\n",
    "filename = 'embeddings_{}_voxforge.csv'\n",
    "\n",
    "embeddings = load_embedding(directory, embedding_dim = 256, embedding_name = filename)\n",
    "\n",
    "print(\"Original embeddings :\")\n",
    "print(embeddings)\n",
    "\n",
    "print(\"Count for each id\")\n",
    "print(aggregate_df(embeddings, 'id', 'filename', count = len))\n",
    "\n",
    "samples = sample_df(embeddings) # get 10 embeddings for 10 different speakers\n",
    "\n",
    "print(\"Samples to plot :\")\n",
    "print(samples)\n",
    "\n",
    "plot_embedding(samples, filename = 'example_data/plots/plot_embeddings.png')"
   ]
  },
  {
   "cell_type": "markdown",
   "metadata": {},
   "source": [
    "## Other examples\n",
    "\n",
    "`load_json` and `dump_json` are utilities functions to load / save json data.\n",
    "\n",
    "They can be useful for 2 reasons : \n",
    "1. Make in 1 line a 3-line code :D\n",
    "2. Avoid errors in loading / saving datas which can lead to a data destruction.\n",
    "\n",
    "Indeed, if your json file is not well formatted, having a `JsonParserError` while loading the file can destroy the file. The 2 functions converts data to `json` format before / after saving / loading them to not have the error when the file is open."
   ]
  },
  {
   "cell_type": "code",
   "execution_count": 7,
   "metadata": {},
   "outputs": [
    {
     "data": {
      "text/plain": [
       "{'class_name': 'TacotronSTFT',\n",
       " 'filter_length': 1024,\n",
       " 'hop_length': 256,\n",
       " 'win_length': 1024,\n",
       " 'n_mel_channels': 80,\n",
       " 'sampling_rate': 22050,\n",
       " 'mel_fmin': 0.0,\n",
       " 'mel_fmax': 8000.0,\n",
       " 'normalize_mode': None}"
      ]
     },
     "execution_count": 7,
     "metadata": {},
     "output_type": "execute_result"
    }
   ],
   "source": [
    "from utils import load_json\n",
    "\n",
    "filename = 'example_data/stft_config.json'\n",
    "config = load_json(filename)\n",
    "config"
   ]
  },
  {
   "cell_type": "code",
   "execution_count": null,
   "metadata": {},
   "outputs": [],
   "source": []
  },
  {
   "cell_type": "code",
   "execution_count": null,
   "metadata": {},
   "outputs": [],
   "source": []
  }
 ],
 "metadata": {
  "kernelspec": {
   "display_name": "Python 3",
   "language": "python",
   "name": "python3"
  },
  "language_info": {
   "codemirror_mode": {
    "name": "ipython",
    "version": 3
   },
   "file_extension": ".py",
   "mimetype": "text/x-python",
   "name": "python",
   "nbconvert_exporter": "python",
   "pygments_lexer": "ipython3",
   "version": "3.6.6"
  }
 },
 "nbformat": 4,
 "nbformat_minor": 4
}
